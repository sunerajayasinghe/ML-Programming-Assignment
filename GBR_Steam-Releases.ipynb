{
 "cells": [
  {
   "cell_type": "code",
   "execution_count": null,
   "metadata": {},
   "outputs": [],
   "source": [
    "import pandas as pd\n",
    "from sklearn.model_selection import train_test_split\n",
    "from sklearn.ensemble import GradientBoostingRegressor\n",
    "from sklearn.metrics import mean_squared_error, mean_absolute_error, r2_score\n",
    "\n",
    "# Load the dataset into a DataFrame\n",
    "df = pd.read_csv(\"C:\\\\ML_assignment\\Steam Releases.csv\")\n",
    "\n",
    "# Select the columns of interest\n",
    "X = df[[\"peak_players\", \"positive_reviews\", \"negative_reviews\"]]\n",
    "y = df[\"rating\"]\n",
    "\n",
    "# Split the data into training and test sets\n",
    "X_train, X_test, y_train, y_test = train_test_split(\n",
    "    X, y, test_size=0.2, random_state=42\n",
    ")\n",
    "\n",
    "# Instantiate the Gradient Boosting Regressor model\n",
    "model = GradientBoostingRegressor(\n",
    "    n_estimators=100,  # Number of boosting stages to perform\n",
    "    learning_rate=0.1,  # Learning rate shrinks the contribution of each tree\n",
    "    max_depth=3,  # Maximum depth of the individual trees\n",
    "    random_state=42  # Seed used by the random number generator\n",
    ")\n",
    "\n",
    "# Fit the model on the training data\n",
    "model.fit(X_train, y_train)\n",
    "\n",
    "# Predict the ratings on the test data\n",
    "y_pred = model.predict(X_test)\n",
    "\n",
    "# Evaluate the performance of the model\n",
    "mse = mean_squared_error(y_test, y_pred)  # Mean squared error\n",
    "mae = mean_absolute_error(y_test, y_pred)  # Mean absolute error\n",
    "r2 = r2_score(y_test, y_pred)  # R-squared\n",
    "\n",
    "# Print the evaluation metrics\n",
    "print(f\"Mean Squared Error: {mse:.5f}\")\n",
    "print(f\"Mean Absolute Error: {mae:.2f}\")\n",
    "print(f\"R-squared: {r2:.2f}\")"
   ]
  }
 ],
 "metadata": {
  "language_info": {
   "name": "python"
  },
  "orig_nbformat": 4
 },
 "nbformat": 4,
 "nbformat_minor": 2
}
